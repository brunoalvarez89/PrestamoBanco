{
 "cells": [
  {
   "cell_type": "code",
   "execution_count": 15,
   "metadata": {},
   "outputs": [
    {
     "data": {
      "text/html": [
       "<script>\n",
       "  function code_toggle() {\n",
       "    if (code_shown){\n",
       "      $('div.input').hide('500');\n",
       "      $('#toggleButton').val('Mostrar codigo')\n",
       "    } else {\n",
       "      $('div.input').show('500');\n",
       "      $('#toggleButton').val('Ocultar codigo')\n",
       "    }\n",
       "    code_shown = !code_shown\n",
       "  }\n",
       "  $( document ).ready(function(){\n",
       "    code_shown=false;\n",
       "    $('div.input').hide()\n",
       "  });\n",
       "</script>\n",
       "<form action=\"javascript:code_toggle()\"><input type=\"submit\" id=\"toggleButton\" value=\"Show Code\"></form>"
      ],
      "text/plain": [
       "<IPython.core.display.HTML object>"
      ]
     },
     "execution_count": 15,
     "metadata": {},
     "output_type": "execute_result"
    }
   ],
   "source": [
    "from IPython.display import HTML\n",
    "HTML('''<script>\n",
    "  function code_toggle() {\n",
    "    if (code_shown){\n",
    "      $('div.input').hide('500');\n",
    "      $('#toggleButton').val('Mostrar codigo')\n",
    "    } else {\n",
    "      $('div.input').show('500');\n",
    "      $('#toggleButton').val('Ocultar codigo')\n",
    "    }\n",
    "    code_shown = !code_shown\n",
    "  }\n",
    "  $( document ).ready(function(){\n",
    "    code_shown=false;\n",
    "    $('div.input').hide()\n",
    "  });\n",
    "</script>\n",
    "<form action=\"javascript:code_toggle()\"><input type=\"submit\" id=\"toggleButton\" value=\"Show Code\"></form>''')\n"
   ]
  },
  {
   "cell_type": "code",
   "execution_count": 27,
   "metadata": {},
   "outputs": [],
   "source": [
    "# funciones necesarias\n",
    "\n",
    "# esta es la funcion de cuota mensual total\n",
    "def get_cuota_mensual_total(p, i, n):\n",
    "    num = p * i * (i+1)**n\n",
    "    den = (i+1)**n - 1\n",
    "    return num/den\n",
    "\n",
    "# esta es la funcion de deuda capital en el mes t\n",
    "def get_deuda_capital(p, i, n, t):\n",
    "    coef = (((1+i)**t) - 1) / (((1+i)**n) - 1)\n",
    "    return p * ( 1 - coef )"
   ]
  },
  {
   "cell_type": "markdown",
   "metadata": {},
   "source": [
    "### Esta página calcula la cuota mensual que pagarías solicitando un crédito.\n",
    "\n",
    "Simplemente poné en los casilleros de abajo los datos solicitados, y al final vas a ver el listado de cuotas."
   ]
  },
  {
   "cell_type": "code",
   "execution_count": 2,
   "metadata": {},
   "outputs": [],
   "source": [
    "import ipywidgets as widgets\n",
    "import seaborn as sns\n",
    "import matplotlib.pyplot as plt\n",
    "import numpy as np"
   ]
  },
  {
   "cell_type": "markdown",
   "metadata": {},
   "source": [
    "¿Cuánta plata (AR$) le pedís al banco?"
   ]
  },
  {
   "cell_type": "code",
   "execution_count": 3,
   "metadata": {},
   "outputs": [
    {
     "data": {
      "application/vnd.jupyter.widget-view+json": {
       "model_id": "6ee77669f97a43dc84d79fb4dec872f4",
       "version_major": 2,
       "version_minor": 0
      },
      "text/html": [
       "<p>Failed to display Jupyter Widget of type <code>BoundedFloatText</code>.</p>\n",
       "<p>\n",
       "  If you're reading this message in the Jupyter Notebook or JupyterLab Notebook, it may mean\n",
       "  that the widgets JavaScript is still loading. If this message persists, it\n",
       "  likely means that the widgets JavaScript library is either not installed or\n",
       "  not enabled. See the <a href=\"https://ipywidgets.readthedocs.io/en/stable/user_install.html\">Jupyter\n",
       "  Widgets Documentation</a> for setup instructions.\n",
       "</p>\n",
       "<p>\n",
       "  If you're reading this message in another frontend (for example, a static\n",
       "  rendering on GitHub or <a href=\"https://nbviewer.jupyter.org/\">NBViewer</a>),\n",
       "  it may mean that your frontend doesn't currently support widgets.\n",
       "</p>\n"
      ],
      "text/plain": [
       "BoundedFloatText(value=1000000.0, description=u'AR$', max=100000000.0, step=1.0)"
      ]
     },
     "metadata": {},
     "output_type": "display_data"
    }
   ],
   "source": [
    "p_w = widgets.BoundedFloatText(\n",
    "    value=1000000,\n",
    "    min=0,\n",
    "    max=100000000,\n",
    "    step=1,\n",
    "    description='AR$',\n",
    "    disabled=False\n",
    ")\n",
    "display(p_w)"
   ]
  },
  {
   "cell_type": "markdown",
   "metadata": {},
   "source": [
    "¿Cuál es el interés anual del crédito (en porcentaje)?"
   ]
  },
  {
   "cell_type": "code",
   "execution_count": 4,
   "metadata": {
    "scrolled": true
   },
   "outputs": [
    {
     "data": {
      "application/vnd.jupyter.widget-view+json": {
       "model_id": "9f8b5e32d1374e0399d9c2854e42807e",
       "version_major": 2,
       "version_minor": 0
      },
      "text/html": [
       "<p>Failed to display Jupyter Widget of type <code>BoundedFloatText</code>.</p>\n",
       "<p>\n",
       "  If you're reading this message in the Jupyter Notebook or JupyterLab Notebook, it may mean\n",
       "  that the widgets JavaScript is still loading. If this message persists, it\n",
       "  likely means that the widgets JavaScript library is either not installed or\n",
       "  not enabled. See the <a href=\"https://ipywidgets.readthedocs.io/en/stable/user_install.html\">Jupyter\n",
       "  Widgets Documentation</a> for setup instructions.\n",
       "</p>\n",
       "<p>\n",
       "  If you're reading this message in another frontend (for example, a static\n",
       "  rendering on GitHub or <a href=\"https://nbviewer.jupyter.org/\">NBViewer</a>),\n",
       "  it may mean that your frontend doesn't currently support widgets.\n",
       "</p>\n"
      ],
      "text/plain": [
       "BoundedFloatText(value=20.0, description=u'Interes (%)', max=100000000.0, step=0.1)"
      ]
     },
     "metadata": {},
     "output_type": "display_data"
    }
   ],
   "source": [
    "i_w = widgets.BoundedFloatText(\n",
    "    value=20,\n",
    "    min=0,\n",
    "    max=100000000,\n",
    "    step=0.1,\n",
    "    description='Interes (%)',\n",
    "    disabled=False\n",
    ")\n",
    "display(i_w)"
   ]
  },
  {
   "cell_type": "markdown",
   "metadata": {},
   "source": [
    "¿De cuántos años es el crédito?"
   ]
  },
  {
   "cell_type": "code",
   "execution_count": 5,
   "metadata": {},
   "outputs": [
    {
     "data": {
      "application/vnd.jupyter.widget-view+json": {
       "model_id": "40f028480cca4afcb7aa823ef0beccb6",
       "version_major": 2,
       "version_minor": 0
      },
      "text/html": [
       "<p>Failed to display Jupyter Widget of type <code>BoundedIntText</code>.</p>\n",
       "<p>\n",
       "  If you're reading this message in the Jupyter Notebook or JupyterLab Notebook, it may mean\n",
       "  that the widgets JavaScript is still loading. If this message persists, it\n",
       "  likely means that the widgets JavaScript library is either not installed or\n",
       "  not enabled. See the <a href=\"https://ipywidgets.readthedocs.io/en/stable/user_install.html\">Jupyter\n",
       "  Widgets Documentation</a> for setup instructions.\n",
       "</p>\n",
       "<p>\n",
       "  If you're reading this message in another frontend (for example, a static\n",
       "  rendering on GitHub or <a href=\"https://nbviewer.jupyter.org/\">NBViewer</a>),\n",
       "  it may mean that your frontend doesn't currently support widgets.\n",
       "</p>\n"
      ],
      "text/plain": [
       "BoundedIntText(value=20, description=u'Anos')"
      ]
     },
     "metadata": {},
     "output_type": "display_data"
    }
   ],
   "source": [
    "n_w = widgets.BoundedIntText(\n",
    "    value=20,\n",
    "    min=0,\n",
    "    max=100,\n",
    "    step=1,\n",
    "    description='Anos',\n",
    "    disabled=False\n",
    ")\n",
    "display(n_w)"
   ]
  },
  {
   "cell_type": "code",
   "execution_count": 44,
   "metadata": {
    "scrolled": true
   },
   "outputs": [
    {
     "name": "stdout",
     "output_type": "stream",
     "text": [
      "Tu cuota mensual es de AR$ 12708.7826888\n",
      "\n",
      "Este es tu listado de cuotas por mes: \n",
      "\n",
      "MES \t CAPITAL \t INTERESES \t CAPITAL ADEUDADO\n",
      "1\t785.449355447\t11923.3333333\t1021214.55064\n",
      "2\t794.61293126\t11914.1697575\t1020419.93771\n",
      "3\t803.883415458\t11904.8992733\t1019616.0543\n",
      "4\t813.262055305\t11895.5206335\t1018802.79224\n",
      "5\t822.750112617\t11886.0325762\t1017980.04213\n",
      "6\t832.348863931\t11876.4338248\t1017147.69327\n",
      "7\t842.059600677\t11866.7230881\t1016305.63367\n",
      "8\t851.883629352\t11856.8990594\t1015453.75004\n",
      "9\t861.822271694\t11846.9604171\t1014591.92776\n",
      "10\t871.876864864\t11836.9058239\t1013720.0509\n",
      "11\t882.048761621\t11826.7339272\t1012838.00214\n",
      "12\t892.339330506\t11816.4433583\t1011945.66281\n",
      "13\t902.749956029\t11806.0327328\t1011042.91285\n",
      "14\t913.282038849\t11795.5006499\t1010129.63081\n",
      "15\t923.936995969\t11784.8456928\t1009205.69382\n",
      "16\t934.716260922\t11774.0664279\t1008270.97756\n",
      "17\t945.621283966\t11763.1614048\t1007325.35627\n",
      "18\t956.653532279\t11752.1291565\t1006368.70274\n",
      "19\t967.814490155\t11740.9681986\t1005400.88825\n",
      "20\t979.105659207\t11729.6770296\t1004421.78259\n",
      "21\t990.528558565\t11718.2541302\t1003431.25403\n",
      "22\t1002.08472508\t11706.6979637\t1002429.16931\n",
      "23\t1013.77571354\t11695.0069752\t1001415.39359\n",
      "24\t1025.60309687\t11683.1795919\t1000389.7905\n",
      "25\t1037.56846633\t11671.2142225\t999352.22203\n",
      "26\t1049.67343177\t11659.109257\t998302.548598\n",
      "27\t1061.91962181\t11646.863067\t997240.628976\n",
      "28\t1074.30868406\t11634.4740047\t996166.320292\n",
      "29\t1086.84228537\t11621.9404034\t995079.478006\n",
      "30\t1099.52211204\t11609.2605767\t993979.955894\n",
      "31\t1112.34987001\t11596.4328188\t992867.606024\n",
      "32\t1125.32728516\t11583.4554036\t991742.278739\n",
      "33\t1138.45610349\t11570.3265853\t990603.822636\n",
      "34\t1151.73809136\t11557.0445974\t989452.084544\n",
      "35\t1165.17503576\t11543.607653\t988286.909509\n",
      "36\t1178.76874451\t11530.0139443\t987108.140764\n",
      "37\t1192.52104653\t11516.2616422\t985915.619718\n",
      "38\t1206.43379207\t11502.3488967\t984709.185926\n",
      "39\t1220.50885298\t11488.2738358\t983488.677073\n",
      "40\t1234.74812293\t11474.0345658\t982253.92895\n",
      "41\t1249.1535177\t11459.6291711\t981004.775432\n",
      "42\t1263.72697541\t11445.0557134\t979741.048457\n",
      "43\t1278.47045679\t11430.312232\t978462.578\n",
      "44\t1293.38594545\t11415.3967433\t977169.192054\n",
      "45\t1308.47544815\t11400.3072406\t975860.716606\n",
      "46\t1323.74099504\t11385.0416937\t974536.975611\n",
      "47\t1339.18463998\t11369.5980488\t973197.790971\n",
      "48\t1354.80846078\t11353.974228\t971842.98251\n",
      "49\t1370.61455949\t11338.1681293\t970472.367951\n",
      "50\t1386.60506269\t11322.1776261\t969085.762888\n",
      "51\t1402.78212175\t11306.000567\t967682.980766\n",
      "52\t1419.14791317\t11289.6347756\t966263.832853\n",
      "53\t1435.70463883\t11273.07805\t964828.128214\n",
      "54\t1452.45452628\t11256.3281625\t963375.673688\n",
      "55\t1469.39982909\t11239.3828597\t961906.273859\n",
      "56\t1486.54282709\t11222.2398617\t960419.731032\n",
      "57\t1503.88582674\t11204.896862\t958915.845205\n",
      "58\t1521.43116139\t11187.3515274\t957394.414044\n",
      "59\t1539.1811916\t11169.6014972\t955855.232852\n",
      "60\t1557.1383055\t11151.6443833\t954298.094547\n",
      "61\t1575.30491907\t11133.4777697\t952722.789628\n",
      "62\t1593.68347646\t11115.0992123\t951129.106151\n",
      "63\t1612.27645035\t11096.5062384\t949516.829701\n",
      "64\t1631.08634227\t11077.6963465\t947885.743359\n",
      "65\t1650.11568293\t11058.6670059\t946235.627676\n",
      "66\t1669.36703256\t11039.4156562\t944566.260643\n",
      "67\t1688.84298128\t11019.9397075\t942877.417662\n",
      "68\t1708.54614939\t11000.2365394\t941168.871512\n",
      "69\t1728.4791878\t10980.303501\t939440.392325\n",
      "70\t1748.64477833\t10960.1379105\t937691.747546\n",
      "71\t1769.04563407\t10939.7370547\t935922.701912\n",
      "72\t1789.6844998\t10919.098189\t934133.017412\n",
      "73\t1810.5641523\t10898.2185365\t932322.45326\n",
      "74\t1831.68740075\t10877.095288\t930490.765859\n",
      "75\t1853.05708709\t10855.7256017\t928637.708772\n",
      "76\t1874.67608644\t10834.1066023\t926763.032686\n",
      "77\t1896.54730745\t10812.2353813\t924866.485378\n",
      "78\t1918.6736927\t10790.1089961\t922947.811686\n",
      "79\t1941.05821911\t10767.7244697\t921006.753467\n",
      "80\t1963.70389834\t10745.0787904\t919043.049568\n",
      "81\t1986.61377715\t10722.1689116\t917056.435791\n",
      "82\t2009.79093788\t10698.9917509\t915046.644853\n",
      "83\t2033.23849883\t10675.54419\t913013.406354\n",
      "84\t2056.95961465\t10651.8230741\t910956.44674\n",
      "85\t2080.95747682\t10627.825212\t908875.489263\n",
      "86\t2105.23531405\t10603.5473747\t906770.253949\n",
      "87\t2129.79639271\t10578.9862961\t904640.457556\n",
      "88\t2154.64401729\t10554.1386715\t902485.813539\n",
      "89\t2179.78153083\t10529.001158\t900306.032008\n",
      "90\t2205.21231535\t10503.5703734\t898100.819693\n",
      "91\t2230.93979237\t10477.8428964\t895869.8799\n",
      "92\t2256.96742328\t10451.8152655\t893612.912477\n",
      "93\t2283.29870988\t10425.4839789\t891329.613767\n",
      "94\t2309.93719483\t10398.845494\t889019.676572\n",
      "95\t2336.8864621\t10371.8962267\t886682.79011\n",
      "96\t2364.15013749\t10344.6325513\t884318.639973\n",
      "97\t2391.7318891\t10317.0507997\t881926.908084\n",
      "98\t2419.6354278\t10289.147261\t879507.272656\n",
      "99\t2447.8645078\t10260.918181\t877059.408148\n",
      "100\t2476.42292705\t10232.3597617\t874582.985221\n",
      "101\t2505.31452787\t10203.4681609\t872077.670693\n",
      "102\t2534.54319736\t10174.2394914\t869543.127496\n",
      "103\t2564.112868\t10144.6698208\t866979.014628\n",
      "104\t2594.02751812\t10114.7551707\t864384.98711\n",
      "105\t2624.2911725\t10084.4915163\t861760.695937\n",
      "106\t2654.90790285\t10053.8747859\t859105.788034\n",
      "107\t2685.88182838\t10022.9008604\t856419.906206\n",
      "108\t2717.21711638\t9991.5655724\t853702.68909\n",
      "109\t2748.91798274\t9959.86470604\t850953.771107\n",
      "110\t2780.98869253\t9927.79399625\t848172.782414\n",
      "111\t2813.43356061\t9895.34912817\t845359.348854\n",
      "112\t2846.25695215\t9862.52573663\t842513.091901\n",
      "113\t2879.46328326\t9829.31940552\t839633.628618\n",
      "114\t2913.05702157\t9795.72566721\t836720.571597\n",
      "115\t2947.04268682\t9761.74000196\t833773.52891\n",
      "116\t2981.4248515\t9727.35783728\t830792.104058\n",
      "117\t3016.20814143\t9692.57454735\t827775.895917\n",
      "118\t3051.39723642\t9657.38545236\t824724.498681\n",
      "119\t3086.99687084\t9621.78581794\t821637.50181\n",
      "120\t3123.01183433\t9585.77085445\t818514.489975\n",
      "121\t3159.4469724\t9549.33571638\t815355.043003\n",
      "122\t3196.30718708\t9512.4755017\t812158.735816\n",
      "123\t3233.5974376\t9475.18525118\t808925.138378\n",
      "124\t3271.32274103\t9437.45994775\t805653.815637\n",
      "125\t3309.48817301\t9399.29451577\t802344.327464\n",
      "126\t3348.09886836\t9360.68382042\t798996.228596\n",
      "127\t3387.16002183\t9321.62266695\t795609.068574\n",
      "128\t3426.67688875\t9282.10580003\t792182.391685\n",
      "129\t3466.65478579\t9242.12790299\t788715.736899\n",
      "130\t3507.09909162\t9201.68359716\t785208.637808\n",
      "131\t3548.01524769\t9160.76744109\t781660.62256\n",
      "132\t3589.40875891\t9119.37392987\t778071.213801\n",
      "133\t3631.28519443\t9077.49749435\t774439.928607\n",
      "134\t3673.65018837\t9035.13250041\t770766.278418\n",
      "135\t3716.50944056\t8992.27324822\t767049.768978\n",
      "136\t3759.86871737\t8948.91397141\t763289.900261\n",
      "137\t3803.73385241\t8905.04883637\t759486.166408\n",
      "138\t3848.11074735\t8860.67194143\t755638.055661\n",
      "139\t3893.00537274\t8815.77731604\t751745.050288\n",
      "140\t3938.42376875\t8770.35892003\t747806.626519\n",
      "141\t3984.37204606\t8724.41064272\t743822.254473\n",
      "142\t4030.85638659\t8677.92630219\t739791.398087\n",
      "143\t4077.88304444\t8630.89964434\t735713.515042\n",
      "144\t4125.45834662\t8583.32434216\t731588.056696\n",
      "145\t4173.588694\t8535.19399478\t727414.468002\n",
      "146\t4222.2805621\t8486.50212669\t723192.187439\n",
      "147\t4271.54050199\t8437.24218679\t718920.646937\n",
      "148\t4321.37514118\t8387.4075476\t714599.271796\n",
      "149\t4371.79118449\t8336.99150429\t710227.480612\n",
      "150\t4422.79541498\t8285.9872738\t705804.685197\n",
      "151\t4474.39469482\t8234.38799396\t701330.290502\n",
      "152\t4526.59596626\t8182.18672252\t696803.694536\n",
      "153\t4579.40625253\t8129.37643625\t692224.288283\n",
      "154\t4632.83265881\t8075.95002997\t687591.455624\n",
      "155\t4686.88237316\t8021.90031562\t682904.573251\n",
      "156\t4741.56266752\t7967.22002126\t678163.010584\n",
      "157\t4796.88089864\t7911.90179014\t673366.129685\n",
      "158\t4852.84450912\t7855.93817966\t668513.285176\n",
      "159\t4909.46102839\t7799.32166039\t663603.824148\n",
      "160\t4966.73807372\t7742.04461506\t658637.086074\n",
      "161\t5024.68335125\t7684.09933753\t653612.402723\n",
      "162\t5083.30465702\t7625.47803176\t648529.098066\n",
      "163\t5142.60987801\t7566.17281077\t643386.488188\n",
      "164\t5202.60699326\t7506.17569552\t638183.881194\n",
      "165\t5263.30407485\t7445.47861393\t632920.577119\n",
      "166\t5324.70928905\t7384.07339973\t627595.86783\n",
      "167\t5386.83089743\t7321.95179136\t622209.036933\n",
      "168\t5449.67725789\t7259.10543089\t616759.359675\n",
      "169\t5513.2568259\t7195.52586288\t611246.102849\n",
      "170\t5577.57815554\t7131.20453324\t605668.524694\n",
      "171\t5642.64990069\t7066.13278809\t600025.874793\n",
      "172\t5708.4808162\t7000.30187258\t594317.393977\n",
      "173\t5775.07975905\t6933.70292973\t588542.314218\n",
      "174\t5842.45568957\t6866.32699921\t582699.858528\n",
      "175\t5910.61767262\t6798.16501616\t576789.240856\n",
      "176\t5979.5748788\t6729.20780998\t570809.665977\n",
      "177\t6049.33658572\t6659.44610306\t564760.329391\n",
      "178\t6119.91217922\t6588.87050956\t558640.417212\n",
      "179\t6191.31115464\t6517.47153414\t552449.106057\n",
      "180\t6263.54311811\t6445.23957067\t546185.562939\n",
      "181\t6336.61778782\t6372.16490096\t539848.945151\n",
      "182\t6410.54499535\t6298.23769343\t533438.400156\n",
      "183\t6485.33468696\t6223.44800182\t526953.065469\n",
      "184\t6560.99692498\t6147.7857638\t520392.068544\n",
      "185\t6637.5418891\t6071.24079968\t513754.526655\n",
      "186\t6714.97987781\t5993.80281097\t507039.546777\n",
      "187\t6793.32130971\t5915.46137907\t500246.225467\n",
      "188\t6872.57672499\t5836.20596379\t493373.648742\n",
      "189\t6952.75678679\t5756.02590199\t486420.891956\n",
      "190\t7033.87228263\t5674.91040615\t479387.019673\n",
      "191\t7115.93412593\t5592.84856285\t472271.085547\n",
      "192\t7198.9533574\t5509.82933138\t465072.13219\n",
      "193\t7282.94114657\t5425.84154221\t457789.191043\n",
      "194\t7367.90879328\t5340.8738955\t450421.28225\n",
      "195\t7453.8677292\t5254.91495958\t442967.414521\n",
      "196\t7540.82951937\t5167.95316941\t435426.585001\n",
      "197\t7628.80586377\t5079.97682501\t427797.779137\n",
      "198\t7717.80859884\t4990.97408994\t420079.970539\n",
      "199\t7807.84969916\t4900.93298962\t412272.120839\n",
      "200\t7898.94127899\t4809.84140979\t404373.17956\n",
      "201\t7991.09559391\t4717.68709487\t396382.083966\n",
      "202\t8084.3250425\t4624.45764628\t388297.758924\n",
      "203\t8178.642168\t4530.14052078\t380119.116756\n",
      "204\t8274.05965996\t4434.72302882\t371845.057096\n",
      "205\t8370.59035599\t4338.19233279\t363474.46674\n",
      "206\t8468.24724348\t4240.5354453\t355006.219497\n",
      "207\t8567.04346132\t4141.73922746\t346439.176035\n",
      "208\t8666.9923017\t4041.79038708\t337772.183734\n",
      "209\t8768.10721189\t3940.67547689\t329004.076522\n",
      "210\t8870.40179603\t3838.38089275\t320133.674726\n",
      "211\t8973.88981698\t3734.8928718\t311159.784909\n",
      "212\t9078.58519818\t3630.1974906\t302081.19971\n",
      "213\t9184.50202549\t3524.28066329\t292896.697685\n",
      "214\t9291.65454912\t3417.12813966\t283605.043136\n",
      "215\t9400.05718553\t3308.72550325\t274204.98595\n",
      "216\t9509.72451936\t3199.05816942\t264695.261431\n",
      "217\t9620.67130542\t3088.11138336\t255074.590126\n",
      "218\t9732.91247065\t2975.87021813\t245341.677655\n",
      "219\t9846.46311614\t2862.31957264\t235495.214539\n",
      "220\t9961.33851916\t2747.44416962\t225533.87602\n",
      "221\t10077.5541352\t2631.22855356\t215456.321884\n",
      "222\t10195.1256001\t2513.65708865\t205261.196284\n",
      "223\t10314.0687321\t2394.71395665\t194947.127552\n",
      "224\t10434.399534\t2274.38315477\t184512.728018\n",
      "225\t10556.1341952\t2152.64849354\t173956.593823\n",
      "226\t10679.2890942\t2029.4935946\t163277.304729\n",
      "227\t10803.8808003\t1904.9018885\t152473.423928\n",
      "228\t10929.9260763\t1778.8566125\t141543.497852\n",
      "229\t11057.4418805\t1651.34080827\t130486.055972\n",
      "230\t11186.4453691\t1522.33731967\t119299.610603\n",
      "231\t11316.9538984\t1391.82879036\t107982.656704\n",
      "232\t11448.9850272\t1259.79766155\t96533.6716769\n",
      "233\t11582.5565192\t1126.22616956\t84951.1151576\n",
      "234\t11717.6863453\t991.096343506\t73233.4288124\n",
      "235\t11854.392686\t854.390002811\t61379.0361264\n",
      "236\t11992.693934\t716.088754808\t49386.3421924\n",
      "237\t12132.6086965\t576.173992245\t37253.7334959\n",
      "238\t12274.155798\t434.626890785\t24979.5776979\n",
      "239\t12417.3542823\t291.428406475\t12562.2234156\n",
      "240\t12562.2234156\t146.559273182\t0.0\n"
     ]
    }
   ],
   "source": [
    "# extraigo valores de los textboxes\n",
    "p = p_w.value\n",
    "i = i_w.value / 12.0 * 0.01\n",
    "n = n_w.value * 12\n",
    "\n",
    "# calculo cuota mensual total\n",
    "cuota_total = get_cuota_mensual_total(p, i, n)\n",
    "print \"Tu cuota mensual es de AR$ \" + str(cuota_total) + \"\\n\"\n",
    "\n",
    "# muestro cuotas mensuales\n",
    "cuota_capital = []\n",
    "cuota_interes = []\n",
    "deuda_capital = []\n",
    "\n",
    "print \"Este es tu listado de cuotas por mes: \\n\"\n",
    "print \"MES \\t CAPITAL \\t INTERESES \\t CAPITAL ADEUDADO\"\n",
    "\n",
    "for t in range(1, n+1):    \n",
    " \n",
    "    cuota_capital.append(get_deuda_capital(p, i, n, t-1) - get_deuda_capital(p, i, n, t))\n",
    "    cuota_interes.append(cuota_total - cuota_capital[t-1])\n",
    "    deuda_capital.append(get_deuda_capital(p, i, n, t))\n",
    "    \n",
    "    print str(t) + \"\\t\" + \\\n",
    "          str(cuota_capital[t-1]) + \"\\t\" + \\\n",
    "          str(cuota_interes[t-1]) + \"\\t\" + \\\n",
    "          str(deuda_capital[t-1])\n",
    "    \n",
    "#print \"\\nY algunos graficos:\"\n",
    "\n",
    "#x = np.arange(1, n+1)\n",
    "#plt.subplot(2, 1, 1)\n",
    "#plt.scatter(x,np.asarray(deuda))\n",
    "#plt.subplot(2, 1, 2)\n",
    "#plt.scatter(x,np.asarray(cuota_interes))\n",
    "#plt.scatter(x,np.asarray(cuota_capital))\n",
    "#plt.show()"
   ]
  },
  {
   "cell_type": "code",
   "execution_count": 10,
   "metadata": {},
   "outputs": [],
   "source": []
  },
  {
   "cell_type": "code",
   "execution_count": null,
   "metadata": {},
   "outputs": [],
   "source": []
  }
 ],
 "metadata": {
  "kernelspec": {
   "display_name": "Python 2",
   "language": "python",
   "name": "python2"
  },
  "language_info": {
   "codemirror_mode": {
    "name": "ipython",
    "version": 2
   },
   "file_extension": ".py",
   "mimetype": "text/x-python",
   "name": "python",
   "nbconvert_exporter": "python",
   "pygments_lexer": "ipython2",
   "version": "2.7.14"
  },
  "widgets": {
   "application/vnd.jupyter.widget-state+json": {
    "state": {},
    "version_major": 2,
    "version_minor": 0
   }
  }
 },
 "nbformat": 4,
 "nbformat_minor": 2
}
